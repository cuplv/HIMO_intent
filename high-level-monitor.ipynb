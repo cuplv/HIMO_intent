{
 "cells": [
  {
   "cell_type": "markdown",
   "id": "aff9595e-a7ab-453b-a3ef-529898fd3061",
   "metadata": {},
   "source": [
    "# Set up"
   ]
  },
  {
   "cell_type": "code",
   "execution_count": 1,
   "id": "14c12caa-757a-4678-94e7-6375cd9eb81f",
   "metadata": {
    "tags": []
   },
   "outputs": [],
   "source": [
    "# Let us install timing extensions\n",
    "try:\n",
    "    %load_ext autotime\n",
    "except:\n",
    "    !pip install ipython-autotime\n",
    "    %load_ext autotime"
   ]
  },
  {
   "cell_type": "markdown",
   "id": "18c7d4fb-8349-47af-b979-e5f9957ebe41",
   "metadata": {},
   "source": [
    "### Dependencies: \n",
    "graph_tool, networkx, spot, toytree, toyplot, cvxopt, skunk"
   ]
  },
  {
   "cell_type": "code",
   "execution_count": 2,
   "id": "573dfc69-6b64-41ee-aee2-1e0d05830dff",
   "metadata": {
    "tags": []
   },
   "outputs": [
    {
     "name": "stderr",
     "output_type": "stream",
     "text": [
      "\n",
      "(ipykernel_launcher.py:44476): Gtk-WARNING **: 13:02:05.200: Locale not supported by C library.\n",
      "\tUsing the fallback 'C' locale.\n"
     ]
    },
    {
     "name": "stdout",
     "output_type": "stream",
     "text": [
      "time: 4.68 s\n"
     ]
    }
   ],
   "source": [
    "from src.workspace import *\n",
    "from src.high_level_monitor import *\n",
    "from src.low_level_monitor import *\n",
    "from src.predictive_intent_tree import *\n",
    "from src.buchi import *\n",
    "from src.himo import *\n",
    "from src.buchi_with_AP import *\n",
    "\n",
    "import numpy as np\n",
    "import skunk\n",
    "import graph_tool.all as gt\n",
    "import time\n",
    "import matplotlib as mpl \n",
    "# mpl.use('cairo') \n",
    "import matplotlib.pyplot as plt\n",
    "import scipy.optimize as sp\n",
    "from collections import deque \n",
    "import toytree\n",
    "import toyplot\n",
    "import networkx as nx"
   ]
  },
  {
   "cell_type": "markdown",
   "id": "1aa55f91-ac6b-47c4-9dcc-f10aa5d80e32",
   "metadata": {},
   "source": [
    "### Map setting\n",
    "- In this version, MAP_SIZE 'x' and 'y' should be the same.\n",
    "- Starting position (0,0) is the left bottom of the map."
   ]
  },
  {
   "cell_type": "code",
   "execution_count": 3,
   "id": "474687f2-6bcd-4041-a9ea-b5a39b1086b1",
   "metadata": {},
   "outputs": [
    {
     "name": "stdout",
     "output_type": "stream",
     "text": [
      "time: 481 µs\n"
     ]
    }
   ],
   "source": [
    "NUM_REGIONS = 7\n",
    "MAP_SIZE, start_position = {'x': 10, 'y': 10}, (0, 0)"
   ]
  },
  {
   "cell_type": "markdown",
   "id": "3131e733-9aae-4638-b0bb-751619cba554",
   "metadata": {},
   "source": [
    "### Workspace\n",
    "- Regions are randomly generated."
   ]
  },
  {
   "cell_type": "code",
   "execution_count": 4,
   "id": "9d3ebed6-8518-44a7-ae10-91b1c9f93bb2",
   "metadata": {},
   "outputs": [
    {
     "name": "stdout",
     "output_type": "stream",
     "text": [
      "time: 5.67 ms\n"
     ]
    }
   ],
   "source": [
    "ws = Workspace(MAP_SIZE, NUM_REGIONS, start_position)\n",
    "# ------------------------------------------------------------------\n",
    "# Useful vars\n",
    "#     ws.region: coordinates of regions\n",
    "#     ws.region_idx: cell indices of regions\n",
    "# ------------------------------------------------------------------"
   ]
  },
  {
   "cell_type": "markdown",
   "id": "9bc4bd22-b6fd-4770-900c-6aaaeaa9970c",
   "metadata": {},
   "source": [
    "- Or the user can manually define regions: **Workspace(MAP_SIZE, NUM_REGIONS, start_position, region = [(a, b), (c, d), ...])**"
   ]
  },
  {
   "cell_type": "code",
   "execution_count": 5,
   "id": "7ab2799f-f8d5-4214-899c-ea1a40224cb1",
   "metadata": {},
   "outputs": [
    {
     "name": "stdout",
     "output_type": "stream",
     "text": [
      "time: 4.54 ms\n"
     ]
    }
   ],
   "source": [
    "# # region = [(4, 1), (4, 3)]\n",
    "# # region = [(1, 4), (4, 4), (4, 0)]\n",
    "# region = [(1, 2), (5, 9), (8, 9)]\n",
    "region = [(1, 6), (2, 9), (5, 6), (8, 3), (9, 8)]\n",
    "NUM_REGIONS = len(region)\n",
    "ws = Workspace(MAP_SIZE, NUM_REGIONS, start_position, region = region)"
   ]
  },
  {
   "cell_type": "markdown",
   "id": "c1bc3edb-cefb-4e2f-9000-e70f0b983384",
   "metadata": {},
   "source": [
    "### Hypothetical missions\n",
    "- LTL formulas for 'patrol', 'avoid', and 'patrol_while_avoid' missions can be automatically generated using region indices in each list. For example, if **['patrol', 0, 1]** is given to the monitor, **G (F p0 & F p1)** will be added to the intent set."
   ]
  },
  {
   "cell_type": "code",
   "execution_count": 6,
   "id": "cd4b30d2-d01c-452c-80d3-cd9b25a43fda",
   "metadata": {},
   "outputs": [
    {
     "name": "stdout",
     "output_type": "stream",
     "text": [
      "time: 729 µs\n"
     ]
    }
   ],
   "source": [
    "patrol = ['patrol', 0, 1]\n",
    "sequenced_patrol = ['seq_patrol', 1, 0]\n",
    "ordered_patrol = ['ord_patrol', 1, 0]\n",
    "avoid = ['avoid', 2]\n",
    "patrol_while_avoid = ['patrol_while_avoid', patrol, avoid]\n",
    "sequenced_patrol_while_avoid = ['seq_patrol_while_avoid', sequenced_patrol, avoid]\n",
    "ordered_patrol_while_avoid = ['ord_patrol_while_avoid', ordered_patrol, avoid]"
   ]
  },
  {
   "cell_type": "code",
   "execution_count": 7,
   "id": "25fcf46c-61f9-4a54-a47a-8badff5356bc",
   "metadata": {
    "tags": []
   },
   "outputs": [
    {
     "name": "stdout",
     "output_type": "stream",
     "text": [
      "time: 511 µs\n"
     ]
    }
   ],
   "source": [
    "# LTL_formula = ['F p0 & F p1', patrol_while_avoid]\n",
    "# LTL_formula = [ordered_patrol, ['patrol', 2, 0]]\n",
    "LTL_formula = [['patrol_while_avoid', ['patrol', 0, 1, 2], ['avoid', 3, 4]]]\n",
    "# LTL_formula = ['F (p0 & (F p1 & F p2))']\n",
    "# LTL_formula = ['FG p0', 'F p0', 'G!p1', 'G!p2']\n",
    "# LTL_formula = ['G(F p3 & Fp1 & Fp2)']"
   ]
  },
  {
   "cell_type": "markdown",
   "id": "16ca0b23-e466-4399-92db-93b785aca00a",
   "metadata": {
    "tags": []
   },
   "source": [
    "### Monitor"
   ]
  },
  {
   "cell_type": "code",
   "execution_count": 8,
   "id": "96524629-0768-4c53-ba5b-2caf5e74c2b5",
   "metadata": {},
   "outputs": [
    {
     "name": "stdout",
     "output_type": "stream",
     "text": [
      "Regions:  [(1, 6), (2, 9), (5, 6), (8, 3), (9, 8)]\n",
      "-------------------------------------------------------------------\n",
      "LTL: probability\n",
      "\n",
      "0- 1: 0.5\n",
      "1- (F p0 & F p1 & F p2) & G ! p3 & G ! p4: 0.5\n",
      "-------------------------------------------------------------------\n",
      "AP(immediate): probability\n",
      "\n",
      "0: 0.39569960478213084\n",
      "1: 0.2533008222219106\n",
      "2: 0.13764201736596107\n",
      "3: 0.08554208466029181\n",
      "4: 0.12781547096970564\n",
      "-------------------------------------------------------------------\n"
     ]
    },
    {
     "data": {
      "image/png": "[encoded data removed]",
      "text/plain": [
       "<Figure size 1296x864 with 2 Axes>"
      ]
     },
     "metadata": {
      "needs_background": "light"
     },
     "output_type": "display_data"
    },
    {
     "data": {
      "image/png": "[encoded data removed]",
      "text/plain": [
       "<Figure size 1296x216 with 3 Axes>"
      ]
     },
     "metadata": {
      "needs_background": "light"
     },
     "output_type": "display_data"
    },
    {
     "data": {
      "text/html": [
       "<div class=\"toyplot\" id=\"t74bbd33a38174446b8ad2205b62cbd32\" style=\"text-align:center\"><svg class=\"toyplot-canvas-Canvas\" xmlns:toyplot=\"http://www.sandia.gov/toyplot\" xmlns:xlink=\"http://www.w3.org/1999/xlink\" xmlns=\"http://www.w3.org/2000/svg\" width=\"500.0px\" height=\"500.0px\" viewBox=\"0 0 500.0 500.0\" preserveAspectRatio=\"xMidYMid meet\" style=\"background-color:transparent;border-color:#292724;border-style:none;border-width:1.0;fill:rgb(16.1%,15.3%,14.1%);fill-opacity:1.0;font-family:Helvetica;font-size:12px;opacity:1.0;stroke:rgb(16.1%,15.3%,14.1%);stroke-opacity:1.0;stroke-width:1.0\" id=\"t5642e9c475174b57a764aaae5891e6a5\"><g class=\"toyplot-coordinates-Cartesian\" id=\"te021484d03a24439822b8d4fa1ebdf78\"><clipPath id=\"t8632d2a93fe8446bac96d5b1b1d56d07\"><rect x=\"30.0\" y=\"30.0\" width=\"440.0\" height=\"440.0\"></rect></clipPath><g clip-path=\"url(#t8632d2a93fe8446bac96d5b1b1d56d07)\"><g class=\"toytree-mark-Toytree\" id=\"t4bc6ff116c01439daf25cab87c130ce2\"><g class=\"toytree-Edges\" style=\"fill:none;stroke:rgb(14.9%,14.9%,14.9%);stroke-linecap:round;stroke-opacity:1;stroke-width:2\"><path d=\"M 70.8 217.0 L 70.8 390.8 L 163.0 390.8\" id=\"8,7\" style=\"stroke-width:2.978498023910654\"></path><path d=\"M 163.0 390.8 L 163.0 344.5 L 255.2 344.5\" id=\"7,6\" style=\"stroke-width:2.098151367786139\"></path><path d=\"M 163.0 390.8 L 163.0 437.2 L 255.2 437.2\" id=\"7,5\" style=\"stroke-width:1.638978821855166\"></path><path d=\"M 70.8 217.0 L 70.8 66.3 L 163.0 66.3\" id=\"8,4\" style=\"stroke-width:2.266504111109553\"></path><path d=\"M 70.8 217.0 L 70.8 159.0 L 163.0 159.0\" id=\"8,3\" style=\"stroke-width:1.6882100868298053\"></path><path d=\"M 70.8 217.0 L 70.8 251.7 L 163.0 251.7\" id=\"8,2\" style=\"stroke-width:1.639077354848528\"></path><path d=\"M 255.2 344.5 L 255.2 344.5 L 347.4 344.5\" id=\"6,1\" style=\"stroke-width:1.9491421986454887\"></path><path d=\"M 255.2 437.2 L 255.2 437.2 L 347.4 437.2\" id=\"5,0\" style=\"stroke-width:1.5330220473703373\"></path></g><g class=\"toytree-AlignEdges\" style=\"stroke:rgb(66.3%,66.3%,66.3%);stroke-dasharray:2, 4;stroke-linecap:round;stroke-opacity:1.0;stroke-width:2\"><path d=\"M 347.4 437.2 L 347.4 437.2\"></path><path d=\"M 347.4 344.5 L 347.4 344.5\"></path><path d=\"M 347.4 251.7 L 163.0 251.7\"></path><path d=\"M 347.4 159.0 L 163.0 159.0\"></path><path d=\"M 347.4 66.3 L 163.0 66.3\"></path></g><g class=\"toytree-Nodes\" style=\"fill:rgb(40%,76.1%,64.7%);fill-opacity:1.0;stroke:None;stroke-width:1\"><g fill=\"rgb(56.5%,93.3%,56.5%)\" fill-opacity=\"1.0\" id=\"node-0\" transform=\"translate(347.444,437.174)\"><circle r=\"6.599066142111012\"></circle></g><g fill=\"rgb(67.8%,84.7%,90.2%)\" fill-opacity=\"1.0\" id=\"node-1\" transform=\"translate(347.444,344.460)\"><circle r=\"7.847426595936466\"></circle></g><g fill=\"rgb(12.5%,69.8%,66.7%)\" fill-opacity=\"1.0\" id=\"node-2\" transform=\"translate(162.983,251.745)\"><circle r=\"6.917232064545584\"></circle></g><g fill=\"rgb(67.8%,84.7%,90.2%)\" fill-opacity=\"1.0\" id=\"node-3\" transform=\"translate(162.983,159.031)\"><circle r=\"7.064630260489416\"></circle></g><g fill=\"rgb(56.5%,93.3%,56.5%)\" fill-opacity=\"1.0\" id=\"node-4\" transform=\"translate(162.983,66.317)\"><circle r=\"8.799512333328659\"></circle></g><g fill=\"rgb(67.8%,84.7%,90.2%)\" fill-opacity=\"1.0\" id=\"node-5\" transform=\"translate(255.213,437.174)\"><circle r=\"6.916936465565498\"></circle></g><g fill=\"rgb(56.5%,93.3%,56.5%)\" fill-opacity=\"1.0\" id=\"node-6\" transform=\"translate(255.213,344.460)\"><circle r=\"8.294454103358417\"></circle></g><g fill=\"rgb(82.7%,82.7%,82.7%)\" fill-opacity=\"1.0\" id=\"node-7\" transform=\"translate(162.983,390.817)\"><circle r=\"10.935494071731963\"></circle></g><g fill=\"rgb(100%,75.3%,79.6%)\" fill-opacity=\"1.0\" id=\"node-8\" transform=\"translate(70.752,216.978)\"><circle r=\"15.0\"></circle></g></g><g class=\"toytree-NodeLabels\" style=\"fill:rgb(0%,0%,0%);fill-opacity:1.0;font-size:20px;stroke:none\"><g transform=\"translate(341.88,442.28)\"><title>idx: 0\n",
       "dist: 1.0000\n",
       "support: 0.0000\n",
       "height: 0.0000\n",
       "name: 42</title><text>1</text></g><g transform=\"translate(341.88,349.57)\"><title>idx: 1\n",
       "dist: 1.0000\n",
       "support: 0.0000\n",
       "height: 0.0000\n",
       "name: 38</title><text>2</text></g><g transform=\"translate(157.42,256.86)\"><title>idx: 2\n",
       "dist: 1.0000\n",
       "support: 0.0000\n",
       "height: 2.0000\n",
       "name: 5</title><text>4</text></g><g transform=\"translate(157.42,164.14)\"><title>idx: 3\n",
       "dist: 1.0000\n",
       "support: 0.0000\n",
       "height: 2.0000\n",
       "name: 3</title><text>2</text></g><g transform=\"translate(157.42,71.43)\"><title>idx: 4\n",
       "dist: 1.0000\n",
       "support: 0.0000\n",
       "height: 2.0000\n",
       "name: 2</title><text>1</text></g><g transform=\"translate(249.65,442.28)\"><title>idx: 5\n",
       "dist: 1.0000\n",
       "support: 0.0000\n",
       "height: 1.0000\n",
       "name: 8</title><text>2</text></g><g transform=\"translate(249.65,349.57)\"><title>idx: 6\n",
       "dist: 1.0000\n",
       "support: 0.0000\n",
       "height: 1.0000\n",
       "name: 7</title><text>1</text></g><g transform=\"translate(157.42,395.93)\"><title>idx: 7\n",
       "dist: 1.0000\n",
       "support: 0.0000\n",
       "height: 2.0000\n",
       "name: 1</title><text>0</text></g></g><g class=\"toytree-TipLabels\" style=\"fill:rgb(14.9%,14.9%,14.9%);fill-opacity:1.0;font-family:helvetica;font-size:11px;font-weight:normal;stroke:none;white-space:pre\"><g transform=\"translate(347.44,437.17)rotate(0)\"><text x=\"15.00\" y=\"2.81\" style=\"\">(0, 2, 1): 0.1066</text></g><g transform=\"translate(347.44,344.46)rotate(0)\"><text x=\"15.00\" y=\"2.81\" style=\"\">(0, 1, 2): 0.1898</text></g><g transform=\"translate(347.44,251.75)rotate(0)\"><text x=\"15.00\" y=\"2.81\" style=\"\">(4,): 0.1278</text></g><g transform=\"translate(347.44,159.03)rotate(0)\"><text x=\"15.00\" y=\"2.81\" style=\"\">(2,): 0.1376</text></g><g transform=\"translate(347.44,66.32)rotate(0)\"><text x=\"15.00\" y=\"2.81\" style=\"\">(1,): 0.2533</text></g></g></g></g></g></svg><div class=\"toyplot-behavior\"><script>(function()\n",
       "{\n",
       "var modules={};\n",
       "})();</script></div></div>"
      ]
     },
     "metadata": {},
     "output_type": "display_data"
    },
    {
     "name": "stdout",
     "output_type": "stream",
     "text": [
      "time: 1.29 s\n"
     ]
    }
   ],
   "source": [
    "print(\"Regions: \", ws.region)\n",
    "print(\"-------------------------------------------------------------------\")\n",
    "monitor = HIMO(LTL_formula, ws, alpha=1, beta_high=1, beta_low=1, epsilon=0.3, tree_depth=4)\n",
    "monitor.add_observations([(0,1),(1,5)])\n",
    "    \n",
    "monitor.prediction(300, 5)\n",
    "monitor.plot(tree_prob_threshold=0.1, tree_height=500, tree_width=500)"
   ]
  },
  {
   "cell_type": "markdown",
   "id": "be9f5e4c-f03a-4dbe-afeb-1f736ed7a86d",
   "metadata": {},
   "source": [
    "---"
   ]
  }
 ],
 "metadata": {
  "kernelspec": {
   "display_name": "notebook",
   "language": "python",
   "name": "notebook"
  },
  "language_info": {
   "codemirror_mode": {
    "name": "ipython",
    "version": 3
   },
   "file_extension": ".py",
   "mimetype": "text/x-python",
   "name": "python",
   "nbconvert_exporter": "python",
   "pygments_lexer": "ipython3",
   "version": "3.8.0"
  }
 },
 "nbformat": 4,
 "nbformat_minor": 5
}
