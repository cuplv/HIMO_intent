{
 "cells": [
  {
   "cell_type": "markdown",
   "id": "aff9595e-a7ab-453b-a3ef-529898fd3061",
   "metadata": {
    "tags": []
   },
   "source": [
    "# Set up"
   ]
  },
  {
   "cell_type": "code",
   "execution_count": 1,
   "id": "14c12caa-757a-4678-94e7-6375cd9eb81f",
   "metadata": {
    "tags": []
   },
   "outputs": [],
   "source": [
    "# Let us install timing extensions\n",
    "try:\n",
    "    %load_ext autotime\n",
    "except:\n",
    "    !pip install ipython-autotime\n",
    "    %load_ext autotime"
   ]
  },
  {
   "cell_type": "markdown",
   "id": "18c7d4fb-8349-47af-b979-e5f9957ebe41",
   "metadata": {},
   "source": [
    "### Dependencies: \n",
    "graph_tool, networkx, spot, toytree, toyplot, cvxopt, skunk"
   ]
  },
  {
   "cell_type": "code",
   "execution_count": 2,
   "id": "573dfc69-6b64-41ee-aee2-1e0d05830dff",
   "metadata": {
    "tags": []
   },
   "outputs": [
    {
     "name": "stderr",
     "output_type": "stream",
     "text": [
      "\n",
      "(ipykernel_launcher.py:44497): Gtk-WARNING **: 13:04:38.627: Locale not supported by C library.\n",
      "\tUsing the fallback 'C' locale.\n"
     ]
    },
    {
     "name": "stdout",
     "output_type": "stream",
     "text": [
      "time: 5.04 s\n"
     ]
    }
   ],
   "source": [
    "from src.workspace import *\n",
    "from src.high_level_monitor import *\n",
    "from src.low_level_monitor import *\n",
    "from src.predictive_intent_tree import *\n",
    "from src.buchi import *\n",
    "from src.himo import *\n",
    "from src.buchi_with_AP import *\n",
    "from src.processing_thor import *\n",
    "\n",
    "import numpy as np\n",
    "import skunk\n",
    "import graph_tool.all as gt\n",
    "import time\n",
    "import pandas as pd\n",
    "import matplotlib as mpl \n",
    "# mpl.use('cairo') \n",
    "import matplotlib.pyplot as plt\n",
    "import scipy.optimize as sp\n",
    "from collections import deque \n",
    "import toytree\n",
    "import toyplot\n",
    "import networkx as nx"
   ]
  },
  {
   "cell_type": "markdown",
   "id": "4fe6164f-d7f6-4cb9-94c5-8e5fabb1099f",
   "metadata": {},
   "source": [
    "### Load Thor trajectory data"
   ]
  },
  {
   "cell_type": "code",
   "execution_count": 3,
   "id": "6702325c-f0d5-4535-96d9-0ebb6189c73c",
   "metadata": {},
   "outputs": [
    {
     "name": "stdout",
     "output_type": "stream",
     "text": [
      "time: 461 µs\n"
     ]
    }
   ],
   "source": [
    "exp_id = 1\n",
    "run_id = 1\n",
    "agent = 'lab'\n",
    "region_accept_dist = REGION_ACCEPT_DIST_LAB"
   ]
  },
  {
   "cell_type": "code",
   "execution_count": 4,
   "id": "f129a8fd-fafe-456e-905c-249d22d02fdb",
   "metadata": {},
   "outputs": [
    {
     "name": "stdout",
     "output_type": "stream",
     "text": [
      "time: 834 µs\n"
     ]
    }
   ],
   "source": [
    "# Reference\n",
    "if exp_id == 1:\n",
    "    agent_names = ['2','utility','4','5','6','7','8','lab','inspector','lidar','robot']\n",
    "elif exp_id == 2:\n",
    "    agent_names = ['utility','3','4','5','6','7','lab','9','inspector','lidar','robot']\n",
    "elif exp_id == 3:\n",
    "    agent_names = ['2','3','lab','utility','6','7','8','9','inspector','lidar','robot']"
   ]
  },
  {
   "cell_type": "code",
   "execution_count": 5,
   "id": "d1879ed0-7681-44ee-a894-c172b443588d",
   "metadata": {},
   "outputs": [
    {
     "name": "stdout",
     "output_type": "stream",
     "text": [
      "time: 10.1 ms\n"
     ]
    }
   ],
   "source": [
    "traj_data = pd.read_csv(f'./data/Thor/exp{exp_id}-run{run_id}-{agent}_with_goal.csv', usecols=['X', 'Y'])\n",
    "traj_data = list(traj_data.itertuples(index=False, name=None))\n",
    "goal_data = pd.read_csv(f'./data/Thor/exp{exp_id}-run{run_id}-{agent}_with_goal.csv', usecols=['G1', 'G2', 'G3']).values"
   ]
  },
  {
   "cell_type": "markdown",
   "id": "1aa55f91-ac6b-47c4-9dcc-f10aa5d80e32",
   "metadata": {
    "tags": []
   },
   "source": [
    "### Map setting\n",
    "- In this version, MAP_SIZE 'x' and 'y' should be the same.\n",
    "- Starting position (0,0) is the left bottom of the map."
   ]
  },
  {
   "cell_type": "code",
   "execution_count": 6,
   "id": "474687f2-6bcd-4041-a9ea-b5a39b1086b1",
   "metadata": {},
   "outputs": [
    {
     "name": "stdout",
     "output_type": "stream",
     "text": [
      "(46, 5)\n",
      "time: 821 µs\n"
     ]
    }
   ],
   "source": [
    "NUM_REGIONS = 6\n",
    "MAP_SIZE, start_position = {'x': 100, 'y': 100}, traj_data[0]\n",
    "print(start_position)"
   ]
  },
  {
   "cell_type": "markdown",
   "id": "3131e733-9aae-4638-b0bb-751619cba554",
   "metadata": {},
   "source": [
    "### Workspace\n",
    "- Regions are randomly generated."
   ]
  },
  {
   "cell_type": "code",
   "execution_count": 7,
   "id": "9d3ebed6-8518-44a7-ae10-91b1c9f93bb2",
   "metadata": {},
   "outputs": [
    {
     "name": "stdout",
     "output_type": "stream",
     "text": [
      "time: 94.9 ms\n"
     ]
    }
   ],
   "source": [
    "ws = Workspace(MAP_SIZE, NUM_REGIONS, start_position)\n",
    "# ------------------------------------------------------------------\n",
    "# Useful vars\n",
    "#     ws.region: coordinates of regions\n",
    "#     ws.region_idx: cell indices of regions\n",
    "# ------------------------------------------------------------------"
   ]
  },
  {
   "cell_type": "markdown",
   "id": "9bc4bd22-b6fd-4770-900c-6aaaeaa9970c",
   "metadata": {},
   "source": [
    "- Or the user can manually define regions: **Workspace(MAP_SIZE, NUM_REGIONS, start_position, region = [(a, b), (c, d), ...])**"
   ]
  },
  {
   "cell_type": "code",
   "execution_count": 8,
   "id": "7ab2799f-f8d5-4214-899c-ea1a40224cb1",
   "metadata": {},
   "outputs": [
    {
     "name": "stdout",
     "output_type": "stream",
     "text": [
      "time: 100 ms\n"
     ]
    }
   ],
   "source": [
    "region = REGION\n",
    "NUM_REGIONS = len(region)\n",
    "ws = Workspace(MAP_SIZE, NUM_REGIONS, start_position, region = region)"
   ]
  },
  {
   "cell_type": "markdown",
   "id": "2f244563-7a59-49a9-bd9c-2b8b9920f521",
   "metadata": {},
   "source": [
    "- Remove wall and an obstacle"
   ]
  },
  {
   "cell_type": "code",
   "execution_count": 9,
   "id": "acc30f33-8e7f-4c42-9690-9ab8ae4dad84",
   "metadata": {},
   "outputs": [
    {
     "name": "stdout",
     "output_type": "stream",
     "text": [
      "time: 2.12 ms\n"
     ]
    }
   ],
   "source": [
    "pre_obstacle = [(52, 23), (51, 23), (50, 24), (51, 24), (52, 24), (50, 25), (51, 25), (52, 25), (49, 23), (49, 24), (49, 25), (49, 22), (50, 22), (51, 22), (52, 22)]\n",
    "ws.set_pre_defined_obstacle(pre_obstacle)\n"
   ]
  },
  {
   "cell_type": "markdown",
   "id": "c1bc3edb-cefb-4e2f-9000-e70f0b983384",
   "metadata": {},
   "source": [
    "### Hypothetical missions\n",
    "- LTL formulas for 'patrol', 'avoid', and 'patrol_while_avoid' missions can be automatically generated using region indices in each list. For example, if **['patrol', 0, 1]** is given to the monitor, **G (F p0 & F p1)** will be added to the intent set."
   ]
  },
  {
   "cell_type": "code",
   "execution_count": 10,
   "id": "cd4b30d2-d01c-452c-80d3-cd9b25a43fda",
   "metadata": {},
   "outputs": [
    {
     "name": "stdout",
     "output_type": "stream",
     "text": [
      "time: 1.1 ms\n"
     ]
    }
   ],
   "source": [
    "patrol = ['patrol', 0,1,2,3]\n",
    "sequenced_patrol = ['seq_patrol', 1, 0]\n",
    "ordered_patrol = ['ord_patrol', 1, 0]\n",
    "avoid = ['avoid', 2]\n",
    "patrol_while_avoid = ['patrol_while_avoid', patrol, avoid]\n",
    "sequenced_patrol_while_avoid = ['seq_patrol_while_avoid', sequenced_patrol, avoid]\n",
    "ordered_patrol_while_avoid = ['ord_patrol_while_avoid', ordered_patrol, avoid]"
   ]
  },
  {
   "cell_type": "code",
   "execution_count": 11,
   "id": "25fcf46c-61f9-4a54-a47a-8badff5356bc",
   "metadata": {
    "tags": []
   },
   "outputs": [
    {
     "name": "stdout",
     "output_type": "stream",
     "text": [
      "time: 3.51 ms\n"
     ]
    }
   ],
   "source": [
    "# ------------------------Three ground truth intents---------------------\n",
    "# LTL_formula = [\n",
    "#               ['patrol_while_avoid', ['patrol', 0, 1, 2, 3], ['avoid', 4, 5]], # visitor\n",
    "#               ['seq_patrol_while_avoid', ['seq_patrol', 0, 2, 4], ['avoid', 1, 3, 5]], # lab\n",
    "#               ['patrol_while_avoid', ['patrol', 1, 4], ['avoid', 0, 2, 3, 5]]] # utility\n",
    "\n",
    "# ------------------------Three ground truth intents and ten arbitrary intents---------------------\n",
    "LTL_formula = [\n",
    "              ['patrol_while_avoid', ['patrol', 0, 1, 2, 3], ['avoid', 4, 5]], # visitor\n",
    "              ['seq_patrol_while_avoid', ['seq_patrol', 0, 2, 4], ['avoid', 1, 3, 5]], # lab\n",
    "              ['patrol_while_avoid', ['patrol', 1, 4], ['avoid', 0, 2, 3, 5]], # utility\n",
    "              ['ord_patrol_while_avoid', ['ord_patrol', 0, 2], ['avoid', 1, 3, 4, 5]], # random1\n",
    "              ['seq_patrol_while_avoid', ['seq_patrol', 3, 2], ['avoid', 0, 1, 4, 5]], # random2\n",
    "              'G(p0 -> G(!p2)) & G(F(p0 & Fp3))', # random3\n",
    "              ['patrol_while_avoid', ['patrol', 0, 1, 2, 3, 5], ['avoid', 4]], # random4\n",
    "              ['patrol', 0, 1, 2], # random5\n",
    "              ['patrol_while_avoid', ['patrol', 0, 2, 5], ['avoid', 1]], # random6\n",
    "              'G(p0 -> G(!p2)) & G(F(p0 & Fp3)) & ( ! p2 U p0 )', # random7\n",
    "              'G(p2 -> G(!p1 | !p0)) & G (F ( p2 & F p4)) & ( ! p4 U p2 ) & G ( p4 -> X ( ! p4 U p2)) & G ( p2 -> X ( ! p2 U p4))', # random8\n",
    "              'G(p3 -> F(p0)) & G(F(p3 & F(p2 & Fp0))) & ( ! p3 U p2 )& ( ! p2 U p0 )', # random9\n",
    "              ['seq_patrol', 0, 1, 2, 3, 4, 5]] # random10\n",
    "\n",
    "# ------------------------Three ground truth intents and three arbitrary intents---------------------\n",
    "LTL_formula = [\n",
    "              ['patrol_while_avoid', ['patrol', 0, 1, 2, 3], ['avoid', 4, 5]], # visitor\n",
    "              ['seq_patrol_while_avoid', ['seq_patrol', 0, 2, 4], ['avoid', 1, 3, 5]], # lab\n",
    "              ['patrol_while_avoid', ['patrol', 1, 4], ['avoid', 0, 2, 3, 5]], # utility\n",
    "              ['patrol', 0, 3], # random1\n",
    "              ['ord_patrol_while_avoid', ['ord_patrol', 1, 2], ['avoid', 0, 3, 4, 5]], # random2\n",
    "              'G(p1 -> F(p3)) & G!p5 & G(F(p1 & Fp0)) & ( ! p3 U p0 )'] # random3\n"
   ]
  },
  {
   "cell_type": "markdown",
   "id": "16ca0b23-e466-4399-92db-93b785aca00a",
   "metadata": {
    "tags": []
   },
   "source": [
    "### Monitor"
   ]
  },
  {
   "cell_type": "code",
   "execution_count": 12,
   "id": "96524629-0768-4c53-ba5b-2caf5e74c2b5",
   "metadata": {},
   "outputs": [
    {
     "name": "stdout",
     "output_type": "stream",
     "text": [
      "Regions:  [(95, 40), (87, 18), (42, 3), (3, 20), (55, 40), (15, 36)]\n",
      "-------------------------------------------------------------------\n",
      "LTL: probability\n",
      "\n",
      "0- 1: 0.06433636913747938\n",
      "1- (F p0 & F p1 & F p2 & F p3) & G ! p4 & G ! p5: 0.04585382491051007\n",
      "2- (F ( p0 & F ( p2 & F p4))) & G ! p1 & G ! p3 & G ! p5: 0.7648242852297781\n",
      "3- (F p1 & F p4) & G ! p0 & G ! p2 & G ! p3 & G ! p5: 0.029854768241723367\n",
      "4- (F p0 & F p3): 0.03479387160795858\n",
      "5- G (F ( p1 & F p2)) & ( ! p2 U p1 ) & G ( p2 -> X ( ! p2 U p1)) & G ( p1 -> X ( ! p1 U p2)) & G ! p0 & G ! p3 & G ! p4 & G ! p5: 0.029854768241723367\n",
      "6- G(p1 -> F(p3)) & G!p5 & G(F(p1 & Fp0)) & ( ! p3 U p0 ): 0.03048211263082694\n",
      "-------------------------------------------------------------------\n",
      "AP(immediate): probability\n",
      "\n",
      "0: 0.12645419551715695\n",
      "1: 0.09462473736283822\n",
      "2: 0.010722728189579898\n",
      "3: 0.053823442854152\n",
      "4: 0.6939040027611021\n",
      "5: 0.02047089331517087\n",
      "-------------------------------------------------------------------\n",
      "(47, 2)\n"
     ]
    },
    {
     "data": {
      "image/png": "[encoded data removed]",
      "text/plain": [
       "<Figure size 1296x432 with 2 Axes>"
      ]
     },
     "metadata": {
      "needs_background": "light"
     },
     "output_type": "display_data"
    },
    {
     "data": {
      "image/png": "[encoded data removed]",
      "text/plain": [
       "<Figure size 1296x216 with 3 Axes>"
      ]
     },
     "metadata": {
      "needs_background": "light"
     },
     "output_type": "display_data"
    },
    {
     "data": {
      "text/html": [
       "<div class=\"toyplot\" id=\"t39856e2b8d8f4bc4b0e7a31a57e859a7\" style=\"text-align:center\"><svg class=\"toyplot-canvas-Canvas\" xmlns:toyplot=\"http://www.sandia.gov/toyplot\" xmlns:xlink=\"http://www.w3.org/1999/xlink\" xmlns=\"http://www.w3.org/2000/svg\" width=\"500.0px\" height=\"500.0px\" viewBox=\"0 0 500.0 500.0\" preserveAspectRatio=\"xMidYMid meet\" style=\"background-color:transparent;border-color:#292724;border-style:none;border-width:1.0;fill:rgb(16.1%,15.3%,14.1%);fill-opacity:1.0;font-family:Helvetica;font-size:12px;opacity:1.0;stroke:rgb(16.1%,15.3%,14.1%);stroke-opacity:1.0;stroke-width:1.0\" id=\"tc9005cbb81e24815913161ee9cecaa0c\"><g class=\"toyplot-coordinates-Cartesian\" id=\"t5d885fc905b14dc3ac8c1e6079a5ca24\"><clipPath id=\"ta2a6067238cb43b99e1667a1dfb2b4c8\"><rect x=\"30.0\" y=\"30.0\" width=\"440.0\" height=\"440.0\"></rect></clipPath><g clip-path=\"url(#ta2a6067238cb43b99e1667a1dfb2b4c8)\"><g class=\"toytree-mark-Toytree\" id=\"ta8595e1ff71740dab9c3ccfa6fc047b5\"><g class=\"toytree-Edges\" style=\"fill:none;stroke:rgb(14.9%,14.9%,14.9%);stroke-linecap:round;stroke-opacity:1;stroke-width:2\"><path d=\"M 70.8 203.3 L 70.8 343.6 L 163.0 343.6\" id=\"5,4\" style=\"stroke-width:4.469520013805511\"></path><path d=\"M 163.0 343.6 L 163.0 343.6 L 255.2 343.6\" id=\"4,3\" style=\"stroke-width:4.119595867470082\"></path><path d=\"M 70.8 203.3 L 70.8 62.9 L 163.0 62.9\" id=\"5,2\" style=\"stroke-width:1.6322709775857849\"></path><path d=\"M 255.2 343.6 L 255.2 250.1 L 347.4 250.1\" id=\"3,1\" style=\"stroke-width:3.4979250734272362\"></path><path d=\"M 255.2 343.6 L 255.2 437.2 L 347.4 437.2\" id=\"3,0\" style=\"stroke-width:1.6115723337190668\"></path></g><g class=\"toytree-AlignEdges\" style=\"stroke:rgb(66.3%,66.3%,66.3%);stroke-dasharray:2, 4;stroke-linecap:round;stroke-opacity:1.0;stroke-width:2\"><path d=\"M 347.4 437.2 L 347.4 437.2\"></path><path d=\"M 347.4 250.1 L 347.4 250.1\"></path><path d=\"M 347.4 62.9 L 163.0 62.9\"></path></g><g class=\"toytree-Nodes\" style=\"fill:rgb(40%,76.1%,64.7%);fill-opacity:1.0;stroke:None;stroke-width:1\"><g fill=\"rgb(12.5%,69.8%,66.7%)\" fill-opacity=\"1.0\" id=\"node-0\" transform=\"translate(347.444,437.209)\"><circle r=\"6.8347170011572\"></circle></g><g fill=\"rgb(67.8%,84.7%,90.2%)\" fill-opacity=\"1.0\" id=\"node-1\" transform=\"translate(347.444,250.058)\"><circle r=\"12.493775220281709\"></circle></g><g fill=\"rgb(82.7%,82.7%,82.7%)\" fill-opacity=\"1.0\" id=\"node-2\" transform=\"translate(162.983,62.907)\"><circle r=\"6.896812932757355\"></circle></g><g fill=\"rgb(82.7%,82.7%,82.7%)\" fill-opacity=\"1.0\" id=\"node-3\" transform=\"translate(255.213,343.633)\"><circle r=\"14.358787602410244\"></circle></g><g fill=\"rgb(12.5%,69.8%,66.7%)\" fill-opacity=\"1.0\" id=\"node-4\" transform=\"translate(162.983,343.633)\"><circle r=\"15.408560041416532\"></circle></g><g fill=\"rgb(100%,75.3%,79.6%)\" fill-opacity=\"1.0\" id=\"node-5\" transform=\"translate(70.752,203.270)\"><circle r=\"15.0\"></circle></g></g><g class=\"toytree-NodeLabels\" style=\"fill:rgb(0%,0%,0%);fill-opacity:1.0;font-size:20px;stroke:none\"><g transform=\"translate(341.88,442.32)\"><title>idx: 0\n",
       "dist: 1.0000\n",
       "support: 0.0000\n",
       "height: 0.0000\n",
       "name: 191</title><text>4</text></g><g transform=\"translate(341.88,255.17)\"><title>idx: 1\n",
       "dist: 1.0000\n",
       "support: 0.0000\n",
       "height: 0.0000\n",
       "name: 189</title><text>2</text></g><g transform=\"translate(157.42,68.02)\"><title>idx: 2\n",
       "dist: 1.0000\n",
       "support: 0.0000\n",
       "height: 2.0000\n",
       "name: 1</title><text>0</text></g><g transform=\"translate(249.65,348.74)\"><title>idx: 3\n",
       "dist: 1.0000\n",
       "support: 0.0000\n",
       "height: 1.0000\n",
       "name: 31</title><text>0</text></g><g transform=\"translate(157.42,348.74)\"><title>idx: 4\n",
       "dist: 1.0000\n",
       "support: 0.0000\n",
       "height: 2.0000\n",
       "name: 5</title><text>4</text></g></g><g class=\"toytree-TipLabels\" style=\"fill:rgb(14.9%,14.9%,14.9%);fill-opacity:1.0;font-family:helvetica;font-size:11px;font-weight:normal;stroke:none;white-space:pre\"><g transform=\"translate(347.44,437.21)rotate(0)\"><text x=\"15.00\" y=\"2.81\" style=\"\">(4, 0, 4): 0.1223</text></g><g transform=\"translate(347.44,250.06)rotate(0)\"><text x=\"15.00\" y=\"2.81\" style=\"\">(4, 0, 2): 0.4996</text></g><g transform=\"translate(347.44,62.91)rotate(0)\"><text x=\"15.00\" y=\"2.81\" style=\"\">(0,): 0.1265</text></g></g></g></g></g></svg><div class=\"toyplot-behavior\"><script>(function()\n",
       "{\n",
       "var modules={};\n",
       "})();</script></div></div>"
      ]
     },
     "metadata": {},
     "output_type": "display_data"
    },
    {
     "name": "stdout",
     "output_type": "stream",
     "text": [
      "time: 4.33 s\n"
     ]
    }
   ],
   "source": [
    "print(\"Regions: \", ws.region)\n",
    "print(\"-------------------------------------------------------------------\")\n",
    "monitor = HIMO(LTL_formula, ws, alpha=5, beta_high=0.01, beta_low=3, epsilon=0.3, tree_depth=4)\n",
    "n =110\n",
    "monitor.add_observations_thor(traj_data[1:n], print_probab = True, accept_dist=region_accept_dist)\n",
    "\n",
    "monitor.prediction(300,5)\n",
    "monitor.plot_thor(traj_data[1:n+5], region_accept_dist, tree_prob_threshold=0.1, tree_height=500, tree_width=500)\n",
    "print(traj_data[n-1])"
   ]
  },
  {
   "cell_type": "markdown",
   "id": "be9f5e4c-f03a-4dbe-afeb-1f736ed7a86d",
   "metadata": {},
   "source": [
    "---"
   ]
  }
 ],
 "metadata": {
  "kernelspec": {
   "display_name": "notebook",
   "language": "python",
   "name": "notebook"
  },
  "language_info": {
   "codemirror_mode": {
    "name": "ipython",
    "version": 3
   },
   "file_extension": ".py",
   "mimetype": "text/x-python",
   "name": "python",
   "nbconvert_exporter": "python",
   "pygments_lexer": "ipython3",
   "version": "3.8.0"
  }
 },
 "nbformat": 4,
 "nbformat_minor": 5
}
